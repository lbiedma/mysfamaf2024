{
  "cells": [
    {
      "cell_type": "markdown",
      "metadata": {
        "id": "SWwFi5Zp1q3j"
      },
      "source": [
        "# Ejercicio 3\n",
        "## MÉTODO DE MONTE CARLO\n",
        "\n"
      ]
    },
    {
      "cell_type": "code",
      "execution_count": null,
      "metadata": {
        "id": "JWkz-fHG2IyB"
      },
      "outputs": [],
      "source": [
        "# importamos lo necesario\n",
        "import math\n",
        "import numpy as np\n",
        "from random import random\n",
        "from random import expovariate"
      ]
    },
    {
      "cell_type": "markdown",
      "metadata": {
        "id": "V3Va9a46cxzE"
      },
      "source": [
        "## Ejercicio 5\n",
        " Calcule exactamente el valor de las siguientes integrales.\n",
        "Mediante una simulación de Monte Carlo con $n$ iteraciones,\n",
        "calcule a su vez un valor aproximado y compare con el valor exacto.\n",
        "\n"
      ]
    },
    {
      "cell_type": "code",
      "execution_count": null,
      "metadata": {
        "id": "PV1ZqfxBPVHd"
      },
      "outputs": [],
      "source": [
        "import numpy as np\n",
        "from random import random\n",
        "\n",
        "# Integral Monte Carlo en el intervalo (0,1)\n",
        "def MonteCarlo_01(fun, Nsim):\n",
        "    Integral = 0\n",
        "    for _ in range(Nsim):\n",
        "        Integral += fun(random())\n",
        "    return Integral/Nsim\n",
        "\n",
        "# Integral Monte Carlo en el intervalo (a,b)\n",
        "def MonteCarlo_ab(fun, a, b, Nsim):\n",
        "    Integral = 0\n",
        "    for _ in range(Nsim):\n",
        "        Integral += fun(a + (b-a)*random())\n",
        "    return Integral*(b-a)/Nsim #Aquí multiplico una sola vez por (b-a)\n",
        "\n",
        "# Integral Monte Carlo en el intervalo (0,inf)\n",
        "def MonteCarlo_inf(fun, Nsim):\n",
        "    Integral=0\n",
        "    for _ in range(Nsim):\n",
        "        u=random()\n",
        "        Integral+= fun(1/u-1)/(u**2)\n",
        "    return Integral/Nsim"
      ]
    },
    {
      "cell_type": "markdown",
      "metadata": {
        "id": "BtWqD8eQPTH1"
      },
      "source": [
        "### a)$$\\int_0^1 \\left( 1-x^2 \\right)^{3/2} \\,dx$$"
      ]
    },
    {
      "cell_type": "code",
      "execution_count": null,
      "metadata": {
        "id": "I31NUowzPOoi"
      },
      "outputs": [],
      "source": [
        "def g_a(u):\n",
        "  return (1 - u**2)**(3/2)"
      ]
    },
    {
      "cell_type": "code",
      "execution_count": null,
      "metadata": {
        "colab": {
          "base_uri": "https://localhost:8080/"
        },
        "id": "wbwmPmRPQY4X",
        "outputId": "fe87433c-bf6a-4859-fa46-5f8b379f35bc"
      },
      "outputs": [
        {
          "name": "stdout",
          "output_type": "stream",
          "text": [
            "Integral para Nsim = 100\n",
            "0.5779197810904765\n",
            "-------------------\n",
            "Integral para Nsim = 1000\n",
            "0.5667563076268572\n",
            "-------------------\n",
            "Integral para Nsim = 10000\n",
            "0.5922998966127734\n",
            "-------------------\n",
            "Integral para Nsim = 100000\n",
            "0.5895292190088695\n",
            "-------------------\n",
            "Integral para Nsim = 1000000\n",
            "0.5889792685718583\n",
            "-------------------\n",
            "El valor real aproximado es 3pi/16 ~ 0.5890486225480862\n"
          ]
        }
      ],
      "source": [
        "N = [100,1000,10000,100000,1000000]\n",
        "for i in range(len(N)):\n",
        "  print('Integral para Nsim =',N[i])\n",
        "  print(MonteCarlo_01(g_a,N[i]))\n",
        "  print('-------------------')\n",
        "print('El valor real aproximado es 3pi/16 ~',3*np.pi/16)"
      ]
    },
    {
      "cell_type": "markdown",
      "metadata": {
        "id": "BK2IXmDBA9p0"
      },
      "source": [
        "### b)\n",
        "$$\\displaystyle\n",
        "\\int_2^{3} \\frac{x}{x^2-1} \\,dx$$"
      ]
    },
    {
      "cell_type": "code",
      "execution_count": null,
      "metadata": {
        "id": "lCqiVYjDR8Ny"
      },
      "outputs": [],
      "source": [
        "def g_b(u):\n",
        "  return (u/(u**2 - 1))"
      ]
    },
    {
      "cell_type": "code",
      "execution_count": null,
      "metadata": {
        "colab": {
          "base_uri": "https://localhost:8080/"
        },
        "id": "_HyMrf-ER8Vt",
        "outputId": "975f7ac0-80b7-4790-f353-abc0ecad1bb1"
      },
      "outputs": [
        {
          "name": "stdout",
          "output_type": "stream",
          "text": [
            "Integral para Nsim = 100\n",
            "0.48660166875991756\n",
            "-------------------\n",
            "Integral para Nsim = 1000\n",
            "0.48933019437107084\n",
            "-------------------\n",
            "Integral para Nsim = 10000\n",
            "0.4915136106532451\n",
            "-------------------\n",
            "Integral para Nsim = 100000\n",
            "0.49056875142753276\n",
            "-------------------\n",
            "Integral para Nsim = 1000000\n",
            "0.4903383865298255\n",
            "-------------------\n",
            "El resultado exacto es ln(8/3)/2 0.4904146265058631\n"
          ]
        }
      ],
      "source": [
        "N = [100,1000,10000,100000,1000000]\n",
        "for i in range(len(N)):\n",
        "  print('Integral para Nsim =',N[i])\n",
        "  print(MonteCarlo_ab(g_b,2,3,N[i]))\n",
        "  print('-------------------')\n",
        "print('El resultado exacto es ln(8/3)/2',np.log(8/3)/2)"
      ]
    },
    {
      "cell_type": "markdown",
      "metadata": {
        "id": "r6scCWwcA9sk"
      },
      "source": [
        "### c)\n",
        "$\\displaystyle\n",
        "\\int_0^{\\infty} x \\,\\left( 1+x^2 \\right)^{-2} \\,dx$"
      ]
    },
    {
      "cell_type": "code",
      "execution_count": null,
      "metadata": {
        "id": "Ihf8pfP0Ss9l"
      },
      "outputs": [],
      "source": [
        "def g_c(u):\n",
        "  return u/((u**2 + 1)**(2))"
      ]
    },
    {
      "cell_type": "code",
      "execution_count": null,
      "metadata": {
        "colab": {
          "base_uri": "https://localhost:8080/"
        },
        "id": "GZi6S_YiSt-9",
        "outputId": "eebc68a7-1f24-4791-cc7b-a1c4ebf5e933"
      },
      "outputs": [
        {
          "name": "stdout",
          "output_type": "stream",
          "text": [
            "Integral para Nsim = 100\n",
            "0.5027508165192511\n",
            "-------------------\n",
            "Integral para Nsim = 1000\n",
            "0.5119651769858449\n",
            "-------------------\n",
            "Integral para Nsim = 10000\n",
            "0.5023050990805158\n",
            "-------------------\n",
            "Integral para Nsim = 100000\n",
            "0.49972035681202265\n",
            "-------------------\n",
            "Integral para Nsim = 1000000\n",
            "0.4991338926467976\n",
            "-------------------\n",
            "El valor exacto es 1/2\n"
          ]
        }
      ],
      "source": [
        "N = [100,1000,10000,100000,1000000]\n",
        "for i in range(len(N)):\n",
        "  print('Integral para Nsim =',N[i])\n",
        "  print(MonteCarlo_inf(g_c,N[i]))\n",
        "  print('-------------------')\n",
        "print('El valor exacto es 1/2')"
      ]
    },
    {
      "cell_type": "markdown",
      "metadata": {
        "id": "sKq8c5EqA9vL"
      },
      "source": [
        "### d)  \n",
        "$$\\displaystyle\n",
        "\\int_{-\\infty}^{\\infty} e^{-x^2} \\,dx$$"
      ]
    },
    {
      "cell_type": "code",
      "execution_count": null,
      "metadata": {
        "id": "bxMJAby-SrVt"
      },
      "outputs": [],
      "source": [
        "def g_d(u):\n",
        "  return 2*np.exp(-u**2)"
      ]
    },
    {
      "cell_type": "code",
      "execution_count": null,
      "metadata": {
        "colab": {
          "base_uri": "https://localhost:8080/"
        },
        "id": "1GOPjC-1SrZH",
        "outputId": "b0ade2a3-0527-4d04-bee0-2499b8627303"
      },
      "outputs": [
        {
          "name": "stdout",
          "output_type": "stream",
          "text": [
            "Integral para Nsim = 100\n",
            "1.5609558896405045\n",
            "-------------------\n",
            "Integral para Nsim = 1000\n",
            "1.7828919556228984\n",
            "-------------------\n",
            "Integral para Nsim = 10000\n",
            "1.753226659377645\n",
            "-------------------\n",
            "Integral para Nsim = 100000\n",
            "1.7808448012577076\n",
            "-------------------\n",
            "Integral para Nsim = 1000000\n",
            "1.772761292223931\n",
            "-------------------\n",
            "El valor exacto es sqrt(\\pi) ~ 1.7724538509055159\n"
          ]
        }
      ],
      "source": [
        "N = [100,1000,10000,100000,1000000]\n",
        "for i in range(len(N)):\n",
        "  print('Integral para Nsim =',N[i])\n",
        "  print(MonteCarlo_inf(g_d,N[i]))\n",
        "  print('-------------------')\n",
        "print('El valor exacto es sqrt(\\pi) ~',math.sqrt(np.pi))"
      ]
    },
    {
      "cell_type": "markdown",
      "metadata": {
        "id": "I8HULowVUXJ2"
      },
      "source": [
        "## Integrales Multiples"
      ]
    },
    {
      "cell_type": "code",
      "execution_count": null,
      "metadata": {
        "id": "JrG6Ek9cUU2J"
      },
      "outputs": [],
      "source": [
        "# Integrales múltiples, 2 variables\n",
        "from random import random\n",
        "# Integral Monte Carlo en el intervalo (0,1)x(0,1)\n",
        "def MonteCarlo_01_2(fun, Nsim):\n",
        "    Integral = 0\n",
        "    for _ in range(Nsim):\n",
        "        Integral += fun(random(), random())\n",
        "    return Integral/Nsim\n",
        "\n",
        "# Integral Monte Carlo en el intervalo (a,b)x(c,d)\n",
        "def MonteCarlo_ab_2(fun,a,b,c,d, Nsim):\n",
        "    Integral = 0\n",
        "    for _ in range(Nsim):\n",
        "        Integral += fun(a + (b-a)*random(), c + (d-c)*random())\n",
        "    return Integral*(b-a)*(d-c)/Nsim\n",
        "\n",
        "# Integral Monte Carlo en el intervalo (0,inf)x(0,inf)\n",
        "def MonteCarlo_inf_2(g, Nsim):\n",
        "    Integral=0\n",
        "    for _ in range(Nsim):\n",
        "        u1=random()\n",
        "        u2=random()\n",
        "        Integral+= g(1/u1-1, 1/u2-1)/((u1**2)*(u2**2))\n",
        "    return Integral/Nsim"
      ]
    },
    {
      "cell_type": "markdown",
      "metadata": {
        "id": "NaHbPt68BTtY"
      },
      "source": [
        "### e)\n",
        "$\\displaystyle\n",
        "\\int_0^1 \\left[\\int_0^1 e^{(x+y)^2} \\,dx \\right] \\,dy$"
      ]
    },
    {
      "cell_type": "code",
      "execution_count": null,
      "metadata": {
        "id": "LcAdjQOMUfxG"
      },
      "outputs": [],
      "source": [
        "def g_e(u,v):\n",
        "  return np.exp((u + v)**2)"
      ]
    },
    {
      "cell_type": "code",
      "execution_count": null,
      "metadata": {
        "colab": {
          "base_uri": "https://localhost:8080/"
        },
        "id": "-qpvUGmcUf58",
        "outputId": "fd32bed4-8786-48ea-8840-fe963bcf3a69"
      },
      "outputs": [
        {
          "name": "stdout",
          "output_type": "stream",
          "text": [
            "Integral para Nsim = 100\n",
            "5.160611677694367\n",
            "-------------------\n",
            "Integral para Nsim = 1000\n",
            "4.964743921857258\n",
            "-------------------\n",
            "Integral para Nsim = 10000\n",
            "4.955334814706989\n",
            "-------------------\n",
            "Integral para Nsim = 100000\n",
            "4.878671728569805\n",
            "-------------------\n",
            "Integral para Nsim = 1000000\n",
            "4.9033495937163805\n",
            "-------------------\n",
            "El valor exacto es 4.89916 por wolfram alpha\n"
          ]
        }
      ],
      "source": [
        "N = [100,1000,10000,100000,1000000]\n",
        "for i in range(len(N)):\n",
        "  print('Integral para Nsim =',N[i])\n",
        "  print(MonteCarlo_01_2(g_e,N[i]))\n",
        "  print('-------------------')\n",
        "print('El valor exacto es 4.89916 por wolfram alpha')"
      ]
    },
    {
      "cell_type": "markdown",
      "metadata": {
        "id": "EyzMhddcBTxz"
      },
      "source": [
        "### f)\n",
        "$\\int_0^{\\infty} \\left[\\int_0^x \\;\\,e^{-(x+y)}\\;dy\\right] \\,dx$"
      ]
    },
    {
      "cell_type": "code",
      "execution_count": null,
      "metadata": {
        "id": "aW7y74oxVLxQ"
      },
      "outputs": [],
      "source": [
        "def I(x, y):\n",
        "    if y < x:\n",
        "        return 1\n",
        "    else:\n",
        "        return 0\n",
        "\n",
        "def g_f(x, y):\n",
        "    return np.exp(-(x+y))*I(x, y)"
      ]
    },
    {
      "cell_type": "code",
      "execution_count": null,
      "metadata": {
        "colab": {
          "base_uri": "https://localhost:8080/"
        },
        "id": "Qq50wR0tVWBz",
        "outputId": "517877a8-7d54-4101-cc5a-c4ea291be2f8"
      },
      "outputs": [
        {
          "name": "stdout",
          "output_type": "stream",
          "text": [
            "Integral para Nsim = 100\n",
            "0.5282580078394682\n",
            "-------------------\n",
            "Integral para Nsim = 1000\n",
            "0.4982350625100754\n",
            "-------------------\n",
            "Integral para Nsim = 10000\n",
            "0.49252680763260986\n",
            "-------------------\n",
            "Integral para Nsim = 100000\n",
            "0.49961104143787904\n",
            "-------------------\n",
            "Integral para Nsim = 1000000\n",
            "0.5013955319438148\n",
            "-------------------\n",
            "El valor exacto es 1/2\n"
          ]
        }
      ],
      "source": [
        "N = [100,1000,10000,100000,1000000]\n",
        "for i in range(len(N)):\n",
        "  print('Integral para Nsim =',N[i])\n",
        "  print(MonteCarlo_inf_2(g_f,N[i]))\n",
        "  print('-------------------')\n",
        "print('El valor exacto es 1/2')"
      ]
    }
  ],
  "metadata": {
    "colab": {
      "collapsed_sections": [
        "ZSKzI-4EBoLl",
        "U5wFe81SzsPn",
        "xcHotwmO0_gR",
        "ACENS5Cq2Ryi",
        "Gdgjt-Ks4Sdt",
        "Xqhud4IM-aes",
        "egj3Eq3l_3fA",
        "QpWeVBJN_vqz",
        "dtJN0_QNBhoS",
        "-7R5lBGxFt_d",
        "K2LH2RStpg-5",
        "V3Va9a46cxzE",
        "2GQoc93-czls",
        "w9qvldS2c1Zz",
        "ZYcBc1nMQnJ9"
      ],
      "provenance": []
    },
    "kernelspec": {
      "display_name": "Python 3",
      "name": "python3"
    },
    "language_info": {
      "name": "python"
    }
  },
  "nbformat": 4,
  "nbformat_minor": 0
}
